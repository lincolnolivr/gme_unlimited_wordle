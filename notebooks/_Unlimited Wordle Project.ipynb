{
 "cells": [
  {
   "cell_type": "code",
   "execution_count": null,
   "metadata": {},
   "outputs": [],
   "source": [
    "__version__ = '1.0.0'"
   ]
  },
  {
   "cell_type": "code",
   "execution_count": 31,
   "metadata": {},
   "outputs": [],
   "source": [
    "import os\n",
    "import time\n",
    "import random\n",
    "import chardet\n",
    "import easygui\n",
    "import pandas as pd\n",
    "from icecream import ic\n",
    "from colorama import Fore, Back, Style"
   ]
  },
  {
   "cell_type": "code",
   "execution_count": 40,
   "metadata": {},
   "outputs": [],
   "source": [
    "chances = 3\n",
    "word_size = [4, 5, 6, 7, 8]\n",
    "dictonary_path = 'data/raw'\n",
    "english_path = os.path.join(os.getcwd(), '..', dictonary_path, 'english')"
   ]
  },
  {
   "cell_type": "code",
   "execution_count": 33,
   "metadata": {},
   "outputs": [
    {
     "name": "stdout",
     "output_type": "stream",
     "text": [
      "Carregando palavras...\n"
     ]
    }
   ],
   "source": [
    "dictonary = pd.DataFrame()\n",
    "\n",
    "print('Carregando palavras...')\n",
    "for file in os.listdir(english_path): \n",
    "    path = os.path.join(english_path, file)\n",
    "    with open(path, 'rb') as f:\n",
    "        result = chardet.detect(f.read())\n",
    "        encoding = result['encoding']  \n",
    "    \n",
    "    df = pd.read_csv(path, on_bad_lines='skip', encoding=encoding ,engine='python', names=['Word'])\n",
    "    dictonary = pd.concat([df, dictonary])"
   ]
  },
  {
   "cell_type": "code",
   "execution_count": 34,
   "metadata": {},
   "outputs": [],
   "source": [
    "word_list = [str(word).strip() for word in dictonary.Word.unique()]\n",
    "size_choice = int(easygui.choicebox('Escolha a quantidade de letras para jogar', 'Escolha o modo de jogo', word_size))\n",
    "word_list_filtered = [word.upper() for word in word_list if len(word)==int(size_choice)]\n",
    "alphabet = [\n",
    "    'A', 'B', 'C', 'D', 'E', 'F', \n",
    "    'G', 'H', 'I', 'J', 'K', 'L', \n",
    "    'M', 'N', 'O', 'P', 'Q', 'R', \n",
    "    'S', 'T', 'U', 'V', 'W', 'X', \n",
    "    'Y', 'Z']"
   ]
  },
  {
   "cell_type": "code",
   "execution_count": null,
   "metadata": {},
   "outputs": [],
   "source": [
    "selected_word = random.choice(word_list_filtered)\n",
    "used_words = []\n",
    "used_letters = []\n",
    "letters_in_word = []\n",
    "answer = [space for space in '_' * size_choice]\n",
    "current_chances = chances\n",
    "\n",
    "print(f'\\nChances Restantes: {current_chances}')\n",
    "print(' '.join(answer))\n",
    "\n",
    "while True:\n",
    "    # Verificar possibilidade de limitar caracteres de acordo com o tamanho escolhido\n",
    "    print()\n",
    "    input_word = str(input('Escolha uma palavra: ')).upper()\n",
    "\n",
    "    for letter in input_word:\n",
    "        if letter not in alphabet:\n",
    "            print('Caractere inválido, tente de novo')\n",
    "            break\n",
    "    else:\n",
    "        pass\n",
    "\n",
    "    if input_word in used_words:\n",
    "        print(f'\\nPalavra já utilizada, insira outra palavra.')\n",
    "        continue\n",
    "\n",
    "    if input_word not in word_list_filtered:\n",
    "        print(f'\\nPalavra não válida, tente de novo')\n",
    "        continue\n",
    "    \n",
    "    elif len(input_word) != size_choice:\n",
    "        print('\\nTamanho de palavra incorreto, tente de novo')\n",
    "        continue\n",
    "        \n",
    "    elif input_word == selected_word:\n",
    "        print(f'\\nParabéns, você ganhou!! A palavra é: {selected_word}')\n",
    "        continue_game = input('\\nDeseja continuar? Digite (Y/N)...')\n",
    "        if continue_game.upper() == 'Y':\n",
    "            selected_word = random.choice(word_list_filtered)\n",
    "            used_words = []\n",
    "            used_letters = []\n",
    "            letters_in_word = []\n",
    "            answer = [space for space in '_' * size_choice]\n",
    "            current_chances = chances\n",
    "            print(f'\\nChances Restantes: {current_chances}')\n",
    "            print(' '.join(answer))\n",
    "            continue\n",
    "\n",
    "        else:\n",
    "            print('\\nObrigado por jogar, até a próxima!')\n",
    "            os.system('pause')\n",
    "        break\n",
    "\n",
    "    elif current_chances == 1:\n",
    "        print(f'\\nPoxa, você perdeu. A palavra correta era: {selected_word}')\n",
    "        continue_game = input('\\nDeseja continuar? Digite (Y/N)...')\n",
    "        if continue_game.upper() == 'Y':\n",
    "            selected_word = random.choice(word_list_filtered)\n",
    "            used_words = []\n",
    "            used_letters = []\n",
    "            letters_in_word = []\n",
    "            answer = [space for space in '_' * size_choice]\n",
    "            current_chances = chances\n",
    "            print(f'\\nChances Restantes: {current_chances}')\n",
    "            print(' '.join(answer))\n",
    "            continue\n",
    "        else:\n",
    "            print('\\nObrigado por jogar, até a próxima!')\n",
    "            os.system('pause')\n",
    "        break\n",
    "    \n",
    "    else:\n",
    "        current_chances -= 1\n",
    "        used_words.append(input_word)\n",
    "\n",
    "        for letter in input_word:\n",
    "            used_letters.append(letter)\n",
    "            used_letters = list(set(used_letters))\n",
    "            used_letters.sort()\n",
    "            if letter in selected_word:\n",
    "                letters_in_word.append(letter)\n",
    "                letters_in_word = list(set(letters_in_word))\n",
    "                letters_in_word.sort()\n",
    "\n",
    "        print(f'\\nChances Restantes: {current_chances}')\n",
    "        print(f'Palavras Já Utilizadas: {used_words}')\n",
    "        print(f'Letras já utilizadas palavra: {used_letters}')\n",
    "        print(f'Letras na palavra: {letters_in_word}')\n",
    "        print()\n",
    "\n",
    "        for i in range(size_choice):\n",
    "            if input_word[i] == selected_word[i]:\n",
    "                answer = ''.join(answer[:i]) + input_word[i] + ''.join(answer[i+1:])\n",
    "            if input_word[i] in selected_word:\n",
    "                print(f'A letra {input_word[i]} está na palavra')\n",
    "            if input_word[i] not in selected_word:\n",
    "                print(f'A letra {input_word[i]} não está na palavra')\n",
    "            \n",
    "        print('\\n' + ' '.join(answer))\n"
   ]
  }
 ],
 "metadata": {
  "kernelspec": {
   "display_name": "base",
   "language": "python",
   "name": "python3"
  },
  "language_info": {
   "codemirror_mode": {
    "name": "ipython",
    "version": 3
   },
   "file_extension": ".py",
   "mimetype": "text/x-python",
   "name": "python",
   "nbconvert_exporter": "python",
   "pygments_lexer": "ipython3",
   "version": "3.9.13"
  }
 },
 "nbformat": 4,
 "nbformat_minor": 2
}
