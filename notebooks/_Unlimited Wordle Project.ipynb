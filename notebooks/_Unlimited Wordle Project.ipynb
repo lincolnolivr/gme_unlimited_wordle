{
 "cells": [
  {
   "cell_type": "code",
   "execution_count": 1,
   "metadata": {},
   "outputs": [],
   "source": [
    "import os\n",
    "import time\n",
    "import random\n",
    "import chardet\n",
    "import easygui\n",
    "import pandas as pd\n",
    "from icecream import ic"
   ]
  },
  {
   "cell_type": "code",
   "execution_count": 2,
   "metadata": {},
   "outputs": [],
   "source": [
    "chances = 6\n",
    "word_size = [4, 5, 6, 7, 8]\n",
    "dictonary_path = 'C:\\\\Users\\\\linco\\\\Downloads\\\\Portuguese Wordle'"
   ]
  },
  {
   "cell_type": "code",
   "execution_count": 3,
   "metadata": {},
   "outputs": [
    {
     "name": "stdout",
     "output_type": "stream",
     "text": [
      "Carregando palavras...\n"
     ]
    }
   ],
   "source": [
    "dictonary = pd.DataFrame()\n",
    "\n",
    "print('Carregando palavras...')\n",
    "for file in os.listdir(dictonary_path): \n",
    "    path = os.path.join(dictonary_path, file)\n",
    "    with open(path, 'rb') as f:\n",
    "        result = chardet.detect(f.read())\n",
    "        encoding = result['encoding']  \n",
    "    \n",
    "    df = pd.read_csv(path, on_bad_lines='skip', encoding=encoding ,engine='python', names=['Word'])\n",
    "    dictonary = pd.concat([df, dictonary])"
   ]
  },
  {
   "cell_type": "code",
   "execution_count": 4,
   "metadata": {},
   "outputs": [],
   "source": [
    "word_list = [str(word).strip() for word in dictonary.Word.unique()]\n",
    "size_choice = int(easygui.choicebox('Escolha a quantidade de letras para jogar', 'Escolha o modo de jogo', word_size))\n",
    "word_list_filtered = [word.upper() for word in word_list if len(word)==int(size_choice)]\n",
    "alphabet = [\n",
    "    'A', 'B', 'C', 'D', 'E', 'F', \n",
    "    'G', 'H', 'I', 'J', 'K', 'L', \n",
    "    'M', 'N', 'O', 'P', 'Q', 'R', \n",
    "    'S', 'T', 'U', 'V', 'W', 'X', \n",
    "    'Y', 'Z']\n"
   ]
  },
  {
   "cell_type": "code",
   "execution_count": 5,
   "metadata": {},
   "outputs": [
    {
     "name": "stdout",
     "output_type": "stream",
     "text": [
      "_ _ _ _ _ \n",
      "Chances Restantes: 6\n",
      "Letras Já Utilizadas: \n",
      "Tamanho de palavra incorreto, tente de novo\n",
      "Tamanho de palavra incorreto, tente de novo\n"
     ]
    }
   ],
   "source": [
    "selected_word = random.choice(word_list_filtered)\n",
    "used_letters = []\n",
    "used_words = []\n",
    "answer = '_' * size_choice\n",
    "\n",
    "while True:\n",
    "    print(answer.split())\n",
    "    print(f'Chances Restantes: {chances}')\n",
    "    print('Letras Já Utilizadas: ')\n",
    "    print('Letras na palavra: ')\n",
    "    while True:\n",
    "        # Verificar possibilidade de limitar caracteres de acordo com o tamanho escolhido\n",
    "        input_word = str(input('Escolha uma palavra: ')).upper()\n",
    "        \n",
    "        if len(input_word) != size_choice:\n",
    "            print('Tamanho de palavra incorreto, tente de novo')\n",
    "            continue\n",
    "        \n",
    "        if input_word == selected_word:\n",
    "            print(f'Parabéns, você ganhou!! A palavra é: {selected_word}')\n",
    "            \n",
    "        elif input_word in used_words:\n",
    "            print(f'Palavra já utilizada, insira outra palavra.')\n",
    "            \n",
    "        elif chances == 1:\n",
    "            print(f'Poxa, você perdeu. A palavra correta era: {selected_word}')\n",
    "            \n",
    "        else:\n",
    "            chances -= 1\n",
    "            used_words.append(input_word)\n",
    "            for i, letter in enumerate(input_word):\n",
    "                if letter not in used_letters:\n",
    "                    used_letters.append(letter)\n",
    "                    used_letters.sort()\n",
    "                    \n",
    "        \n",
    "                for option in selected_word\n",
    "        \n",
    "        break\n",
    "    \n",
    "        \n",
    "    \n",
    "    time.sleep(10)"
   ]
  }
 ],
 "metadata": {
  "kernelspec": {
   "display_name": "base",
   "language": "python",
   "name": "python3"
  },
  "language_info": {
   "codemirror_mode": {
    "name": "ipython",
    "version": 3
   },
   "file_extension": ".py",
   "mimetype": "text/x-python",
   "name": "python",
   "nbconvert_exporter": "python",
   "pygments_lexer": "ipython3",
   "version": "3.9.7"
  }
 },
 "nbformat": 4,
 "nbformat_minor": 2
}
